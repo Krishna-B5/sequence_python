{
 "metadata": {
  "language_info": {
   "codemirror_mode": {
    "name": "ipython",
    "version": 3
   },
   "file_extension": ".py",
   "mimetype": "text/x-python",
   "name": "python",
   "nbconvert_exporter": "python",
   "pygments_lexer": "ipython3",
   "version": "3.6.9-final"
  },
  "orig_nbformat": 2,
  "kernelspec": {
   "name": "python36964bit94a68c49e4884fbc8b0c8893e2e474e8",
   "display_name": "Python 3.6.9 64-bit"
  }
 },
 "nbformat": 4,
 "nbformat_minor": 2,
 "cells": [
  {
   "cell_type": "code",
   "execution_count": 1,
   "metadata": {},
   "outputs": [],
   "source": [
    "from session13 import Polygon\n",
    "from seq_ploygon import *"
   ]
  },
  {
   "cell_type": "code",
   "execution_count": 4,
   "metadata": {},
   "outputs": [],
   "source": [
    "p1 = Polygon(5,2)"
   ]
  },
  {
   "cell_type": "code",
   "execution_count": 3,
   "metadata": {},
   "outputs": [
    {
     "output_type": "stream",
     "name": "stdout",
     "text": [
      "Area is 9.51\nPerimeter is 22.360679774997898\nInterior Angle is 108.0\nRepresenting the object - Polygon of side 5 and circumradius 2\n"
     ]
    }
   ],
   "source": [
    "print(f'Area is {p1.area()}')\n",
    "print(f'Perimeter is {p1.perimeter()}')\n",
    "print(f'Interior Angle is {p1.interior_angle()}')\n",
    "print(f'Representing the object - {str(p1)}')"
   ]
  },
  {
   "cell_type": "code",
   "execution_count": 5,
   "metadata": {},
   "outputs": [
    {
     "output_type": "stream",
     "name": "stdout",
     "text": [
      "Apothem is 1.618033988749895\nEdge Length is 2.3511410091698925\n"
     ]
    }
   ],
   "source": [
    "print(f'Apothem is {p1.apothem()}')\n",
    "print(f'Edge Length is {p1.edgelength()}')"
   ]
  },
  {
   "source": [
    "testing equality"
   ],
   "cell_type": "markdown",
   "metadata": {}
  },
  {
   "cell_type": "code",
   "execution_count": 6,
   "metadata": {},
   "outputs": [],
   "source": [
    "p2 = Polygon(5,2)\n",
    "p3 = Polygon(7,2)"
   ]
  },
  {
   "cell_type": "code",
   "execution_count": 7,
   "metadata": {},
   "outputs": [
    {
     "output_type": "stream",
     "name": "stdout",
     "text": [
      "two similar Polygon Objects -  True\ntwo different Polygon Objects -  False\ngreater than Polygon Objects -  True\nless than than Polygon Objects -  False\n"
     ]
    }
   ],
   "source": [
    "print(f'two similar Polygon Objects -  {p1 == p2}')\n",
    "print(f'two different Polygon Objects -  {p1 == p3}')\n",
    "print(f'greater than Polygon Objects -  {p3 > p2}')\n",
    "print(f'less than than Polygon Objects -  {p3 < p2}')"
   ]
  },
  {
   "cell_type": "code",
   "execution_count": 8,
   "metadata": {},
   "outputs": [
    {
     "output_type": "execute_result",
     "data": {
      "text/plain": [
       "'maximum area for Polygon of highest vertices are 25 num and circumradius 10'"
      ]
     },
     "metadata": {},
     "execution_count": 8
    }
   ],
   "source": [
    "obj = Polysequence(25,10)\n",
    "str(obj)"
   ]
  },
  {
   "cell_type": "code",
   "execution_count": 11,
   "metadata": {},
   "outputs": [
    {
     "output_type": "execute_result",
     "data": {
      "text/plain": [
       "('area/perimeter ratios\\n {3: 0.057733, 4: 0.070711, 5: 0.085064, 6: 0.100001, 7: 0.115238, 8: 0.130655, 9: 0.146188, 10: 0.161802, 11: 0.177472, 12: 0.193185, 13: 0.208929, 14: 0.224699, 15: 0.240485, 16: 0.256294, 17: 0.272114, 18: 0.28794, 19: 0.303772, 20: 0.319626}',\n",
       " 'Maximum efficient polygon is of side 20')"
      ]
     },
     "metadata": {},
     "execution_count": 11
    }
   ],
   "source": [
    "areas, max_polygon = obj[20]\n",
    "areas, max_polygon"
   ]
  },
  {
   "cell_type": "code",
   "execution_count": 10,
   "metadata": {},
   "outputs": [
    {
     "output_type": "stream",
     "name": "stdout",
     "text": [
      "Length of the Sequence 25\n"
     ]
    }
   ],
   "source": [
    "print(f'Length of the Sequence {len(obj)}')"
   ]
  }
 ]
}